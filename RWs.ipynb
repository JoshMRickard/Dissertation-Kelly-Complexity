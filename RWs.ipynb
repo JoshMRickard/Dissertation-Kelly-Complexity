{
 "cells": [
  {
   "cell_type": "markdown",
   "id": "66220e39",
   "metadata": {},
   "source": [
    "## Import Packages"
   ]
  },
  {
   "cell_type": "code",
   "execution_count": 2,
   "id": "45e3fe69",
   "metadata": {},
   "outputs": [],
   "source": [
    "import pandas as pd\n",
    "import numpy as np\n",
    "import matplotlib.pyplot as plt\n",
    "import matplotlib.gridspec as gridspec\n",
    "import os\n",
    "import itertools\n",
    "import dill\n",
    "import random\n",
    "import missingno\n",
    "from rff import RFF\n",
    "from backtest import Backtest\n",
    "from backtest_tc import Backtest_tc\n",
    "from joblib import Parallel, delayed\n",
    "from sklearn.linear_model import Ridge, LinearRegression\n",
    "from sklearn.metrics import r2_score, precision_score, recall_score, accuracy_score\n",
    "pd.options.mode.chained_assignment = None  "
   ]
  },
  {
   "cell_type": "markdown",
   "id": "0111ebc7",
   "metadata": {},
   "source": [
    "## Import Data"
   ]
  },
  {
   "cell_type": "code",
   "execution_count": 6,
   "id": "c99c1f64",
   "metadata": {},
   "outputs": [],
   "source": [
    "columns = [\"cfabs\", \"cfcom\", \"cftw\", \"ir\", \"money\", \"cpi\", \"indprod\"]\n",
    "\n",
    "nber = pd.read_csv(\"data/NBER_20210719_cycle_dates_pasted.csv\")[1:]\n",
    "nber[\"peak\"] = pd.to_datetime(nber[\"peak\"])\n",
    "nber[\"trough\"] = pd.to_datetime(nber[\"trough\"])\n",
    "\n",
    "data_raw = pd.read_csv(\"data/mega.csv\")\n",
    "data_raw[\"yyyymm\"] = pd.to_datetime(data_raw[\"yyyymm\"], format='%Y%m', errors='coerce')\n",
    "data_raw = data_raw.set_index(\"yyyymm\")\n",
    "data_raw[data_raw.columns] = data_raw[data_raw.columns].astype(float)\n",
    "data_raw = data_raw.rename({\"gbp\":\"returns\"}, axis=1)\n",
    "data_raw[\"lag_returns\"] = data_raw[\"returns\"].shift()\n",
    "\n",
    "returns = data_raw[\"returns\"].copy()\n",
    "\n",
    "data = data_raw[columns].dropna()\n",
    "returns = returns[returns.index.isin(data.index)]"
   ]
  },
  {
   "cell_type": "markdown",
   "id": "c2b9b09c",
   "metadata": {},
   "source": [
    "## Standardise"
   ]
  },
  {
   "cell_type": "code",
   "execution_count": 7,
   "id": "7b6003d0",
   "metadata": {},
   "outputs": [],
   "source": [
    "for col in columns:\n",
    "    data[col] = (data[col] - data[col].expanding(36).mean())/data[col].expanding(36).std()\n",
    "returns_std = returns.rolling(12).std().shift()\n",
    "returns = returns / returns_std\n",
    "\n",
    "data = data[36:]\n",
    "returns = returns[36:]"
   ]
  },
  {
   "cell_type": "markdown",
   "id": "9b38019f",
   "metadata": {},
   "source": [
    "# Simulation"
   ]
  },
  {
   "cell_type": "code",
   "execution_count": 18,
   "id": "6b823bbb",
   "metadata": {},
   "outputs": [
    {
     "name": "stdout",
     "output_type": "stream",
     "text": [
      "R2: -0.6103443756129161\n",
      "Before TCs er 0.26628478083878604\n",
      "Before TCs vol 3.9255606065113087\n",
      "Before TCs SR 0.06783356761760365\n",
      "After TCs er 0.2574068673473882\n",
      "After TCs vol 3.925609147968627\n",
      "After TCs SR 0.0655711910291904\n"
     ]
    }
   ],
   "source": [
    "random_lists = []\n",
    "for a in range(100):\n",
    "    random_walk = list()\n",
    "    timing_strategy = list()\n",
    "    random_walk.append(0)\n",
    "    for i in range(1, len(returns)-12):\n",
    "        value = random_walk[i-1]+np.random.normal(0,1)\n",
    "        random_walk.append(value)\n",
    "    random_lists.append(random_walk)\n",
    "    \n",
    "average_list = []\n",
    "for i in range(len(random_lists[0])):\n",
    "    average_value = sum(random_list[i] for random_list in random_lists) / len(random_lists)\n",
    "    average_list.append(average_value)\n",
    "random_walk = average_list\n",
    "\n",
    "for b in range(len(random_walk)):\n",
    "    ts = float(random_walk[b] * returns[b])\n",
    "    timing_strategy.append(ts)\n",
    "    \n",
    "print(\"R2:\", r2_score(returns[12:], random_walk))\n",
    "# Simulation\n",
    "#before TCs\n",
    "mean = (sum(timing_strategy)/len(timing_strategy)) * 12\n",
    "std = np.std(timing_strategy, axis = 0) * np.sqrt(12)\n",
    "print(\"Before TCs er\", mean)\n",
    "print(\"Before TCs vol\", std)\n",
    "print(\"Before TCs SR\", mean/std)\n",
    "\n",
    "#after TCs\n",
    "return_tc = list()\n",
    "ptc_delta = list()\n",
    "delta = list()\n",
    "return_tc.append(0)\n",
    "for j in range(1,len(timing_strategy)):\n",
    "    delta = abs(random_walk[j] - random_walk[j-1])\n",
    "    ptcdelta = delta * 0.01\n",
    "    return_value = timing_strategy[j] - ptcdelta\n",
    "    return_tc.append(return_value)\n",
    "mean_tc = (sum(return_tc)/len(return_tc)) * 12\n",
    "std_tc = np.std(return_tc, axis = 0) * np.sqrt(12)\n",
    "print(\"After TCs er\", mean_tc)\n",
    "print(\"After TCs vol\", std_tc)\n",
    "print(\"After TCs SR\", mean_tc/std_tc)"
   ]
  }
 ],
 "metadata": {
  "kernelspec": {
   "display_name": "Python 3 (ipykernel)",
   "language": "python",
   "name": "python3"
  },
  "language_info": {
   "codemirror_mode": {
    "name": "ipython",
    "version": 3
   },
   "file_extension": ".py",
   "mimetype": "text/x-python",
   "name": "python",
   "nbconvert_exporter": "python",
   "pygments_lexer": "ipython3",
   "version": "3.10.10"
  }
 },
 "nbformat": 4,
 "nbformat_minor": 5
}
